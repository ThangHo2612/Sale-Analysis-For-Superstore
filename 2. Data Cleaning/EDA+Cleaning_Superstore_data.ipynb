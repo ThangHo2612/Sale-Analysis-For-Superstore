{
 "cells": [
  {
   "cell_type": "markdown",
   "metadata": {
    "colab_type": "text",
    "id": "view-in-github"
   },
   "source": [
    "<a href=\"https://colab.research.google.com/github/phamvanhoangphi13112002/SuperstoreSalesAnalysis/blob/main/EDA%2BCleaning_Superstore_data.ipynb\" target=\"_parent\"><img src=\"https://colab.research.google.com/assets/colab-badge.svg\" alt=\"Open In Colab\"/></a>"
   ]
  },
  {
   "cell_type": "markdown",
   "metadata": {
    "id": "NWMu6BrZTiSp"
   },
   "source": [
    "### **Import necessary libraries**"
   ]
  },
  {
   "cell_type": "code",
   "execution_count": 1,
   "metadata": {
    "id": "OQER-7Oh_zdq"
   },
   "outputs": [],
   "source": [
    "import pandas as pd\n",
    "import numpy as np\n",
    "import matplotlib.pyplot as plt\n",
    "import seaborn as sns\n",
    "import datetime\n",
    "import os"
   ]
  },
  {
   "cell_type": "markdown",
   "metadata": {
    "id": "HEbged-lTr6f"
   },
   "source": [
    "### **Read file to Dataframes**"
   ]
  },
  {
   "cell_type": "code",
   "execution_count": 2,
   "metadata": {
    "id": "lvm7H4OyDo1x"
   },
   "outputs": [],
   "source": [
    "file_path = r'D:\\JOBBBB\\PORTFOLIO\\Sale analysis\\1. Data source\\Global-Superstore.xlsx'\n",
    "\n",
    "# Read each sheet\n",
    "df1 = pd.read_excel(file_path, sheet_name='Orders')\n",
    "df2 = pd.read_excel(file_path, sheet_name='Returns')\n",
    "df3 = pd.read_excel(file_path, sheet_name='People')"
   ]
  },
  {
   "cell_type": "markdown",
   "metadata": {
    "id": "Kw_Y2VaaTzy5"
   },
   "source": [
    "## **Sheet Orders**"
   ]
  },
  {
   "cell_type": "markdown",
   "metadata": {
    "id": "2M8EzBj-T3r4"
   },
   "source": [
    "### **Overview**"
   ]
  },
  {
   "cell_type": "code",
   "execution_count": 3,
   "metadata": {
    "colab": {
     "base_uri": "https://localhost:8080/",
     "height": 513
    },
    "id": "2I3_d5k0EsdJ",
    "outputId": "31d00be5-7aea-49b1-9cec-cdc2adee5976"
   },
   "outputs": [
    {
     "data": {
      "text/html": [
       "<div>\n",
       "<style scoped>\n",
       "    .dataframe tbody tr th:only-of-type {\n",
       "        vertical-align: middle;\n",
       "    }\n",
       "\n",
       "    .dataframe tbody tr th {\n",
       "        vertical-align: top;\n",
       "    }\n",
       "\n",
       "    .dataframe thead th {\n",
       "        text-align: right;\n",
       "    }\n",
       "</style>\n",
       "<table border=\"1\" class=\"dataframe\">\n",
       "  <thead>\n",
       "    <tr style=\"text-align: right;\">\n",
       "      <th></th>\n",
       "      <th>Row ID</th>\n",
       "      <th>Order ID</th>\n",
       "      <th>Order Date</th>\n",
       "      <th>Ship Date</th>\n",
       "      <th>Ship Mode</th>\n",
       "      <th>Customer ID</th>\n",
       "      <th>Customer Name</th>\n",
       "      <th>Segment</th>\n",
       "      <th>Postal Code</th>\n",
       "      <th>City</th>\n",
       "      <th>State</th>\n",
       "      <th>Country</th>\n",
       "      <th>Region</th>\n",
       "      <th>Market</th>\n",
       "      <th>Product ID</th>\n",
       "      <th>Product Name</th>\n",
       "      <th>Sub-Category</th>\n",
       "      <th>Category</th>\n",
       "      <th>Sales</th>\n",
       "      <th>Quantity</th>\n",
       "      <th>Discount</th>\n",
       "      <th>Profit</th>\n",
       "      <th>Shipping Cost</th>\n",
       "      <th>Order Priority</th>\n",
       "    </tr>\n",
       "  </thead>\n",
       "  <tbody>\n",
       "    <tr>\n",
       "      <th>0</th>\n",
       "      <td>24599</td>\n",
       "      <td>IN-2017-CA120551-42816</td>\n",
       "      <td>2017-03-22</td>\n",
       "      <td>2017-03-29</td>\n",
       "      <td>Standard Class</td>\n",
       "      <td>CA-120551</td>\n",
       "      <td>Cathy Armstrong</td>\n",
       "      <td>Home Office</td>\n",
       "      <td>NaN</td>\n",
       "      <td>Herat</td>\n",
       "      <td>Hirat</td>\n",
       "      <td>Afghanistan</td>\n",
       "      <td>Southern Asia</td>\n",
       "      <td>Asia Pacific</td>\n",
       "      <td>FUR-BO-4861</td>\n",
       "      <td>Ikea Library with Doors, Mobile</td>\n",
       "      <td>Bookcases</td>\n",
       "      <td>Furniture</td>\n",
       "      <td>731.82</td>\n",
       "      <td>2</td>\n",
       "      <td>0.0</td>\n",
       "      <td>102.42</td>\n",
       "      <td>39.66</td>\n",
       "      <td>Medium</td>\n",
       "    </tr>\n",
       "    <tr>\n",
       "      <th>1</th>\n",
       "      <td>29465</td>\n",
       "      <td>ID-2015-BD116051-42248</td>\n",
       "      <td>2015-09-01</td>\n",
       "      <td>2015-09-04</td>\n",
       "      <td>Second Class</td>\n",
       "      <td>BD-116051</td>\n",
       "      <td>Brian Dahlen</td>\n",
       "      <td>Consumer</td>\n",
       "      <td>NaN</td>\n",
       "      <td>Herat</td>\n",
       "      <td>Hirat</td>\n",
       "      <td>Afghanistan</td>\n",
       "      <td>Southern Asia</td>\n",
       "      <td>Asia Pacific</td>\n",
       "      <td>OFF-SU-2988</td>\n",
       "      <td>Acme Scissors, Easy Grip</td>\n",
       "      <td>Supplies</td>\n",
       "      <td>Office Supplies</td>\n",
       "      <td>243.54</td>\n",
       "      <td>9</td>\n",
       "      <td>0.0</td>\n",
       "      <td>104.49</td>\n",
       "      <td>18.72</td>\n",
       "      <td>Medium</td>\n",
       "    </tr>\n",
       "    <tr>\n",
       "      <th>2</th>\n",
       "      <td>24598</td>\n",
       "      <td>IN-2017-CA120551-42816</td>\n",
       "      <td>2017-03-22</td>\n",
       "      <td>2017-03-29</td>\n",
       "      <td>Standard Class</td>\n",
       "      <td>CA-120551</td>\n",
       "      <td>Cathy Armstrong</td>\n",
       "      <td>Home Office</td>\n",
       "      <td>NaN</td>\n",
       "      <td>Herat</td>\n",
       "      <td>Hirat</td>\n",
       "      <td>Afghanistan</td>\n",
       "      <td>Southern Asia</td>\n",
       "      <td>Asia Pacific</td>\n",
       "      <td>TEC-MA-4211</td>\n",
       "      <td>Epson Receipt Printer, White</td>\n",
       "      <td>Machines</td>\n",
       "      <td>Technology</td>\n",
       "      <td>346.32</td>\n",
       "      <td>3</td>\n",
       "      <td>0.0</td>\n",
       "      <td>13.77</td>\n",
       "      <td>14.10</td>\n",
       "      <td>Medium</td>\n",
       "    </tr>\n",
       "    <tr>\n",
       "      <th>3</th>\n",
       "      <td>24597</td>\n",
       "      <td>IN-2017-CA120551-42816</td>\n",
       "      <td>2017-03-22</td>\n",
       "      <td>2017-03-29</td>\n",
       "      <td>Standard Class</td>\n",
       "      <td>CA-120551</td>\n",
       "      <td>Cathy Armstrong</td>\n",
       "      <td>Home Office</td>\n",
       "      <td>NaN</td>\n",
       "      <td>Herat</td>\n",
       "      <td>Hirat</td>\n",
       "      <td>Afghanistan</td>\n",
       "      <td>Southern Asia</td>\n",
       "      <td>Asia Pacific</td>\n",
       "      <td>FUR-FU-5726</td>\n",
       "      <td>Rubbermaid Door Stop, Erganomic</td>\n",
       "      <td>Furnishings</td>\n",
       "      <td>Furniture</td>\n",
       "      <td>169.68</td>\n",
       "      <td>4</td>\n",
       "      <td>0.0</td>\n",
       "      <td>79.68</td>\n",
       "      <td>11.01</td>\n",
       "      <td>Medium</td>\n",
       "    </tr>\n",
       "    <tr>\n",
       "      <th>4</th>\n",
       "      <td>29464</td>\n",
       "      <td>ID-2015-BD116051-42248</td>\n",
       "      <td>2015-09-01</td>\n",
       "      <td>2015-09-04</td>\n",
       "      <td>Second Class</td>\n",
       "      <td>BD-116051</td>\n",
       "      <td>Brian Dahlen</td>\n",
       "      <td>Consumer</td>\n",
       "      <td>NaN</td>\n",
       "      <td>Herat</td>\n",
       "      <td>Hirat</td>\n",
       "      <td>Afghanistan</td>\n",
       "      <td>Southern Asia</td>\n",
       "      <td>Asia Pacific</td>\n",
       "      <td>OFF-EN-3664</td>\n",
       "      <td>Cameo Interoffice Envelope, with clear poly wi...</td>\n",
       "      <td>Envelopes</td>\n",
       "      <td>Office Supplies</td>\n",
       "      <td>203.88</td>\n",
       "      <td>4</td>\n",
       "      <td>0.0</td>\n",
       "      <td>24.36</td>\n",
       "      <td>5.72</td>\n",
       "      <td>Medium</td>\n",
       "    </tr>\n",
       "  </tbody>\n",
       "</table>\n",
       "</div>"
      ],
      "text/plain": [
       "   Row ID                Order ID Order Date  Ship Date       Ship Mode  \\\n",
       "0   24599  IN-2017-CA120551-42816 2017-03-22 2017-03-29  Standard Class   \n",
       "1   29465  ID-2015-BD116051-42248 2015-09-01 2015-09-04    Second Class   \n",
       "2   24598  IN-2017-CA120551-42816 2017-03-22 2017-03-29  Standard Class   \n",
       "3   24597  IN-2017-CA120551-42816 2017-03-22 2017-03-29  Standard Class   \n",
       "4   29464  ID-2015-BD116051-42248 2015-09-01 2015-09-04    Second Class   \n",
       "\n",
       "  Customer ID    Customer Name      Segment  Postal Code   City  State  \\\n",
       "0   CA-120551  Cathy Armstrong  Home Office          NaN  Herat  Hirat   \n",
       "1   BD-116051     Brian Dahlen     Consumer          NaN  Herat  Hirat   \n",
       "2   CA-120551  Cathy Armstrong  Home Office          NaN  Herat  Hirat   \n",
       "3   CA-120551  Cathy Armstrong  Home Office          NaN  Herat  Hirat   \n",
       "4   BD-116051     Brian Dahlen     Consumer          NaN  Herat  Hirat   \n",
       "\n",
       "       Country         Region        Market   Product ID  \\\n",
       "0  Afghanistan  Southern Asia  Asia Pacific  FUR-BO-4861   \n",
       "1  Afghanistan  Southern Asia  Asia Pacific  OFF-SU-2988   \n",
       "2  Afghanistan  Southern Asia  Asia Pacific  TEC-MA-4211   \n",
       "3  Afghanistan  Southern Asia  Asia Pacific  FUR-FU-5726   \n",
       "4  Afghanistan  Southern Asia  Asia Pacific  OFF-EN-3664   \n",
       "\n",
       "                                        Product Name Sub-Category  \\\n",
       "0                    Ikea Library with Doors, Mobile    Bookcases   \n",
       "1                           Acme Scissors, Easy Grip     Supplies   \n",
       "2                       Epson Receipt Printer, White     Machines   \n",
       "3                    Rubbermaid Door Stop, Erganomic  Furnishings   \n",
       "4  Cameo Interoffice Envelope, with clear poly wi...    Envelopes   \n",
       "\n",
       "          Category   Sales  Quantity  Discount  Profit  Shipping Cost  \\\n",
       "0        Furniture  731.82         2       0.0  102.42          39.66   \n",
       "1  Office Supplies  243.54         9       0.0  104.49          18.72   \n",
       "2       Technology  346.32         3       0.0   13.77          14.10   \n",
       "3        Furniture  169.68         4       0.0   79.68          11.01   \n",
       "4  Office Supplies  203.88         4       0.0   24.36           5.72   \n",
       "\n",
       "  Order Priority  \n",
       "0         Medium  \n",
       "1         Medium  \n",
       "2         Medium  \n",
       "3         Medium  \n",
       "4         Medium  "
      ]
     },
     "execution_count": 3,
     "metadata": {},
     "output_type": "execute_result"
    }
   ],
   "source": [
    "pd.set_option('display.max_columns', None)\n",
    "df1.head()"
   ]
  },
  {
   "cell_type": "code",
   "execution_count": 4,
   "metadata": {
    "colab": {
     "base_uri": "https://localhost:8080/"
    },
    "id": "W5BOSVTbH7fH",
    "outputId": "e1268c03-517b-4688-c5d4-7c2a3a5b3ff3"
   },
   "outputs": [
    {
     "name": "stdout",
     "output_type": "stream",
     "text": [
      "The Orders table has: 51290  rows và  24  columns\n"
     ]
    }
   ],
   "source": [
    "print(\"The Orders table has:\",df1.shape[0],\" rows và \", df1.shape[1],\" columns\")"
   ]
  },
  {
   "cell_type": "code",
   "execution_count": 5,
   "metadata": {
    "colab": {
     "base_uri": "https://localhost:8080/"
    },
    "id": "iAUZ2o5RHWFo",
    "outputId": "037cb1d3-1e21-4d80-a54e-ed87a5bc9638"
   },
   "outputs": [
    {
     "name": "stdout",
     "output_type": "stream",
     "text": [
      "<class 'pandas.core.frame.DataFrame'>\n",
      "RangeIndex: 51290 entries, 0 to 51289\n",
      "Data columns (total 24 columns):\n",
      " #   Column          Non-Null Count  Dtype         \n",
      "---  ------          --------------  -----         \n",
      " 0   Row ID          51290 non-null  int64         \n",
      " 1   Order ID        51290 non-null  object        \n",
      " 2   Order Date      51290 non-null  datetime64[ns]\n",
      " 3   Ship Date       51290 non-null  datetime64[ns]\n",
      " 4   Ship Mode       51290 non-null  object        \n",
      " 5   Customer ID     51290 non-null  object        \n",
      " 6   Customer Name   51290 non-null  object        \n",
      " 7   Segment         51290 non-null  object        \n",
      " 8   Postal Code     9994 non-null   float64       \n",
      " 9   City            51290 non-null  object        \n",
      " 10  State           51290 non-null  object        \n",
      " 11  Country         51290 non-null  object        \n",
      " 12  Region          51290 non-null  object        \n",
      " 13  Market          51290 non-null  object        \n",
      " 14  Product ID      51290 non-null  object        \n",
      " 15  Product Name    51290 non-null  object        \n",
      " 16  Sub-Category    51290 non-null  object        \n",
      " 17  Category        51290 non-null  object        \n",
      " 18  Sales           51290 non-null  float64       \n",
      " 19  Quantity        51290 non-null  int64         \n",
      " 20  Discount        51290 non-null  float64       \n",
      " 21  Profit          51290 non-null  float64       \n",
      " 22  Shipping Cost   51290 non-null  float64       \n",
      " 23  Order Priority  51290 non-null  object        \n",
      "dtypes: datetime64[ns](2), float64(5), int64(2), object(15)\n",
      "memory usage: 9.4+ MB\n"
     ]
    }
   ],
   "source": [
    "df1.info()"
   ]
  },
  {
   "cell_type": "markdown",
   "metadata": {
    "id": "5KGda6hNVJo_"
   },
   "source": [
    "### **Check null value**"
   ]
  },
  {
   "cell_type": "code",
   "execution_count": 6,
   "metadata": {
    "colab": {
     "base_uri": "https://localhost:8080/"
    },
    "id": "Rsz0bDgSUnXp",
    "outputId": "dcda31d5-bd53-4b18-fd04-733f71435831"
   },
   "outputs": [
    {
     "data": {
      "text/plain": [
       "True"
      ]
     },
     "execution_count": 6,
     "metadata": {},
     "output_type": "execute_result"
    }
   ],
   "source": [
    "df1.isnull().values.any()"
   ]
  },
  {
   "cell_type": "code",
   "execution_count": 7,
   "metadata": {
    "colab": {
     "base_uri": "https://localhost:8080/"
    },
    "id": "7ZTobKqhVbGQ",
    "outputId": "9f41163a-80d0-4add-f7ec-8fa3e8059d66"
   },
   "outputs": [
    {
     "data": {
      "text/plain": [
       "Row ID                0\n",
       "Order ID              0\n",
       "Order Date            0\n",
       "Ship Date             0\n",
       "Ship Mode             0\n",
       "Customer ID           0\n",
       "Customer Name         0\n",
       "Segment               0\n",
       "Postal Code       41296\n",
       "City                  0\n",
       "State                 0\n",
       "Country               0\n",
       "Region                0\n",
       "Market                0\n",
       "Product ID            0\n",
       "Product Name          0\n",
       "Sub-Category          0\n",
       "Category              0\n",
       "Sales                 0\n",
       "Quantity              0\n",
       "Discount              0\n",
       "Profit                0\n",
       "Shipping Cost         0\n",
       "Order Priority        0\n",
       "dtype: int64"
      ]
     },
     "execution_count": 7,
     "metadata": {},
     "output_type": "execute_result"
    }
   ],
   "source": [
    "df1.isnull().sum()"
   ]
  },
  {
   "cell_type": "markdown",
   "metadata": {
    "id": "N7XAaI1JVyHP"
   },
   "source": [
    "* The field \"Postal Code\" has 41296 null values, so it will be drop out of this data"
   ]
  },
  {
   "cell_type": "markdown",
   "metadata": {
    "id": "GTn2jivqWL84"
   },
   "source": [
    "### **Check duplicated values**"
   ]
  },
  {
   "cell_type": "code",
   "execution_count": 8,
   "metadata": {
    "colab": {
     "base_uri": "https://localhost:8080/"
    },
    "id": "9ENEevAYVhxG",
    "outputId": "ae36f2be-6efe-4b72-8e94-40807bb2c88f"
   },
   "outputs": [
    {
     "data": {
      "text/plain": [
       "0"
      ]
     },
     "execution_count": 8,
     "metadata": {},
     "output_type": "execute_result"
    }
   ],
   "source": [
    "df1.duplicated().sum()"
   ]
  },
  {
   "cell_type": "markdown",
   "metadata": {
    "id": "JIQGoS4wWm2f"
   },
   "source": [
    "* There is no duplicated values in this dataset\n"
   ]
  },
  {
   "cell_type": "markdown",
   "metadata": {
    "id": "1qqXfxSKWtoS"
   },
   "source": [
    "### **Check unique value for each field**"
   ]
  },
  {
   "cell_type": "code",
   "execution_count": 9,
   "metadata": {
    "colab": {
     "base_uri": "https://localhost:8080/"
    },
    "id": "jy_2JlxlWRMl",
    "outputId": "f0b0e94c-638f-4aa6-ab19-4c69ccaefe40"
   },
   "outputs": [
    {
     "name": "stdout",
     "output_type": "stream",
     "text": [
      "Number of unique value in Row ID is: 51290\n",
      "Number of unique value in Order ID is: 25728\n",
      "Number of unique value in Order Date is: 1429\n",
      "Number of unique value in Ship Date is: 1463\n",
      "Number of unique value in Ship Mode is: 4\n",
      "Number of unique value in Customer ID is: 17415\n",
      "Number of unique value in Customer Name is: 796\n",
      "Number of unique value in Segment is: 3\n",
      "Number of unique value in Postal Code is: 631\n",
      "Number of unique value in City is: 3650\n",
      "Number of unique value in State is: 1106\n",
      "Number of unique value in Country is: 165\n",
      "Number of unique value in Region is: 23\n",
      "Number of unique value in Market is: 5\n",
      "Number of unique value in Product ID is: 3788\n",
      "Number of unique value in Product Name is: 3788\n",
      "Number of unique value in Sub-Category is: 17\n",
      "Number of unique value in Category is: 3\n",
      "Number of unique value in Sales is: 22995\n",
      "Number of unique value in Quantity is: 14\n",
      "Number of unique value in Discount is: 27\n",
      "Number of unique value in Profit is: 24575\n",
      "Number of unique value in Shipping Cost is: 16452\n",
      "Number of unique value in Order Priority is: 4\n"
     ]
    }
   ],
   "source": [
    "for i in df1.columns:\n",
    "  print('Number of unique value in', i,'is:',df1[i].nunique())"
   ]
  },
  {
   "cell_type": "markdown",
   "metadata": {
    "id": "IJx7A91nLHib"
   },
   "source": [
    "### **Cleaning Data and Read Data Frame to New files**"
   ]
  },
  {
   "cell_type": "markdown",
   "metadata": {
    "id": "zZVANb6uYZnl"
   },
   "source": [
    "The cleaning scripts:\n",
    "- Delete the Postal Code columns\n",
    "- Rename all columns to lowercase, and replace the space by underscore if exist\n",
    "- Round number into 2 decimal\n",
    "- Join sheet 2 \"Return\" to get the data about return goods\n",
    "- Label for each Order ID: Yes by 1 and fill No by 0\n",
    "- Sort the data by \"Row_ID\"\n",
    "- Drop duplicated values\n"
   ]
  },
  {
   "cell_type": "code",
   "execution_count": 10,
   "metadata": {
    "colab": {
     "base_uri": "https://localhost:8080/"
    },
    "id": "XoJrFBayXjL9",
    "outputId": "e2f08cab-e898-412c-a2b2-a8a3dd075912"
   },
   "outputs": [],
   "source": [
    "# Join sheet 2 to get the data about return goods (left-join)\n",
    "df = pd.merge(df1,df2, on='Order ID', how='left')\n",
    "# Fill the Nan in Returned by No\n",
    "df['Returned'] = df['Returned'].fillna('No')\n",
    "# Label\n",
    "Returned = {\n",
    "    'Yes': '1',\n",
    "    'No': '0',\n",
    "}\n",
    "df['Returned'] = df['Returned'].replace(Returned)\n",
    "# Delete PostalCode columns\n",
    "df =df.drop('Postal Code', axis =1)\n",
    "df = df.drop('Region_y', axis =1)\n",
    "# Rename all columns to lowercase\n",
    "df.rename(columns=lambda x: x.lower().replace(\" \", \"_\"), inplace=True)\n",
    "# Change the datatype of (OrderDate and ShipDate) to datetime\n",
    "df['order_date'] = pd.to_datetime(df['order_date'])\n",
    "df['ship_date'] = pd.to_datetime(df['ship_date'])\n",
    "# Round number into 2 decimal\n",
    "df['profit'] = df['profit'].round(2)\n",
    "df['shipping_cost'] = df['shipping_cost'].round(2)\n",
    "# Sort the data by \"Row_ID\n",
    "df = df.sort_values(by='row_id')\n",
    "# Drop duplicated value\n",
    "df = df.drop_duplicates(keep='first')\n",
    "# reset row_id\n",
    "df['row_id'] = range(1, len(df) + 1)\n",
    "# Save to Data source\n",
    "# df.to_csv('/content/gdrive/MyDrive/PROJECTS/Project: SuperstoreSales/global_superstore_clean.csv', index=False)"
   ]
  },
  {
   "cell_type": "code",
   "execution_count": 11,
   "metadata": {},
   "outputs": [],
   "source": [
    "# Save to Data source\n",
    "save_path = r'D:\\JOBBBB\\PORTFOLIO\\Sale analysis\\global_superstore_clean.csv'\n",
    "directory_path = os.path.dirname(save_path)\n",
    "# Create the directory if it doesn't exist\n",
    "os.makedirs(directory_path, exist_ok=True)\n",
    "\n",
    "# Save the DataFrame to a CSV file in the specified directory\n",
    "df.to_csv(save_path, index=False)"
   ]
  },
  {
   "cell_type": "code",
   "execution_count": 12,
   "metadata": {
    "colab": {
     "base_uri": "https://localhost:8080/",
     "height": 886
    },
    "id": "SSSZNOK-jvyu",
    "outputId": "2bd2bf16-6720-408a-cc9f-3928cdc4aadd"
   },
   "outputs": [
    {
     "data": {
      "text/html": [
       "<div>\n",
       "<style scoped>\n",
       "    .dataframe tbody tr th:only-of-type {\n",
       "        vertical-align: middle;\n",
       "    }\n",
       "\n",
       "    .dataframe tbody tr th {\n",
       "        vertical-align: top;\n",
       "    }\n",
       "\n",
       "    .dataframe thead th {\n",
       "        text-align: right;\n",
       "    }\n",
       "</style>\n",
       "<table border=\"1\" class=\"dataframe\">\n",
       "  <thead>\n",
       "    <tr style=\"text-align: right;\">\n",
       "      <th></th>\n",
       "      <th>row_id</th>\n",
       "      <th>order_id</th>\n",
       "      <th>order_date</th>\n",
       "      <th>ship_date</th>\n",
       "      <th>ship_mode</th>\n",
       "      <th>customer_id</th>\n",
       "      <th>customer_name</th>\n",
       "      <th>segment</th>\n",
       "      <th>city</th>\n",
       "      <th>state</th>\n",
       "      <th>country</th>\n",
       "      <th>region_x</th>\n",
       "      <th>market</th>\n",
       "      <th>product_id</th>\n",
       "      <th>product_name</th>\n",
       "      <th>sub-category</th>\n",
       "      <th>category</th>\n",
       "      <th>sales</th>\n",
       "      <th>quantity</th>\n",
       "      <th>discount</th>\n",
       "      <th>profit</th>\n",
       "      <th>shipping_cost</th>\n",
       "      <th>order_priority</th>\n",
       "      <th>returned</th>\n",
       "    </tr>\n",
       "  </thead>\n",
       "  <tbody>\n",
       "    <tr>\n",
       "      <th>26336</th>\n",
       "      <td>1</td>\n",
       "      <td>MX-2017-SC2057582-43010</td>\n",
       "      <td>2017-10-02</td>\n",
       "      <td>2017-10-06</td>\n",
       "      <td>Standard Class</td>\n",
       "      <td>SC-2057582</td>\n",
       "      <td>Sonia Cooley</td>\n",
       "      <td>Consumer</td>\n",
       "      <td>Mexico City</td>\n",
       "      <td>Distrito Federal</td>\n",
       "      <td>Mexico</td>\n",
       "      <td>Central America</td>\n",
       "      <td>LATAM</td>\n",
       "      <td>OFF-LA-4658</td>\n",
       "      <td>Hon File Folder Labels, Adjustable</td>\n",
       "      <td>Labels</td>\n",
       "      <td>Office Supplies</td>\n",
       "      <td>13.08</td>\n",
       "      <td>3</td>\n",
       "      <td>0.0</td>\n",
       "      <td>4.56</td>\n",
       "      <td>2.03</td>\n",
       "      <td>Medium</td>\n",
       "      <td>0</td>\n",
       "    </tr>\n",
       "    <tr>\n",
       "      <th>9122</th>\n",
       "      <td>2</td>\n",
       "      <td>MX-2015-KW1657028-42292</td>\n",
       "      <td>2015-10-15</td>\n",
       "      <td>2015-10-20</td>\n",
       "      <td>Standard Class</td>\n",
       "      <td>KW-1657028</td>\n",
       "      <td>Kelly Williams</td>\n",
       "      <td>Consumer</td>\n",
       "      <td>Dos Quebradas</td>\n",
       "      <td>Risaralda</td>\n",
       "      <td>Colombia</td>\n",
       "      <td>South America</td>\n",
       "      <td>LATAM</td>\n",
       "      <td>FUR-FU-6238</td>\n",
       "      <td>Tenex Clock, Durable</td>\n",
       "      <td>Furnishings</td>\n",
       "      <td>Furniture</td>\n",
       "      <td>252.16</td>\n",
       "      <td>8</td>\n",
       "      <td>0.0</td>\n",
       "      <td>90.72</td>\n",
       "      <td>13.45</td>\n",
       "      <td>Medium</td>\n",
       "      <td>0</td>\n",
       "    </tr>\n",
       "    <tr>\n",
       "      <th>9123</th>\n",
       "      <td>3</td>\n",
       "      <td>MX-2015-KW1657028-42292</td>\n",
       "      <td>2015-10-15</td>\n",
       "      <td>2015-10-20</td>\n",
       "      <td>Standard Class</td>\n",
       "      <td>KW-1657028</td>\n",
       "      <td>Kelly Williams</td>\n",
       "      <td>Consumer</td>\n",
       "      <td>Dos Quebradas</td>\n",
       "      <td>Risaralda</td>\n",
       "      <td>Colombia</td>\n",
       "      <td>South America</td>\n",
       "      <td>LATAM</td>\n",
       "      <td>FUR-BO-4845</td>\n",
       "      <td>Ikea 3-Shelf Cabinet, Mobile</td>\n",
       "      <td>Bookcases</td>\n",
       "      <td>Furniture</td>\n",
       "      <td>193.28</td>\n",
       "      <td>2</td>\n",
       "      <td>0.0</td>\n",
       "      <td>54.08</td>\n",
       "      <td>9.63</td>\n",
       "      <td>Medium</td>\n",
       "      <td>0</td>\n",
       "    </tr>\n",
       "    <tr>\n",
       "      <th>9129</th>\n",
       "      <td>4</td>\n",
       "      <td>MX-2015-KW1657028-42292</td>\n",
       "      <td>2015-10-15</td>\n",
       "      <td>2015-10-20</td>\n",
       "      <td>Standard Class</td>\n",
       "      <td>KW-1657028</td>\n",
       "      <td>Kelly Williams</td>\n",
       "      <td>Consumer</td>\n",
       "      <td>Dos Quebradas</td>\n",
       "      <td>Risaralda</td>\n",
       "      <td>Colombia</td>\n",
       "      <td>South America</td>\n",
       "      <td>LATAM</td>\n",
       "      <td>OFF-BI-3720</td>\n",
       "      <td>Cardinal Binder, Clear</td>\n",
       "      <td>Binders</td>\n",
       "      <td>Office Supplies</td>\n",
       "      <td>35.44</td>\n",
       "      <td>4</td>\n",
       "      <td>0.0</td>\n",
       "      <td>4.96</td>\n",
       "      <td>1.37</td>\n",
       "      <td>Medium</td>\n",
       "      <td>0</td>\n",
       "    </tr>\n",
       "    <tr>\n",
       "      <th>9128</th>\n",
       "      <td>5</td>\n",
       "      <td>MX-2015-KW1657028-42292</td>\n",
       "      <td>2015-10-15</td>\n",
       "      <td>2015-10-20</td>\n",
       "      <td>Standard Class</td>\n",
       "      <td>KW-1657028</td>\n",
       "      <td>Kelly Williams</td>\n",
       "      <td>Consumer</td>\n",
       "      <td>Dos Quebradas</td>\n",
       "      <td>Risaralda</td>\n",
       "      <td>Colombia</td>\n",
       "      <td>South America</td>\n",
       "      <td>LATAM</td>\n",
       "      <td>OFF-AR-5905</td>\n",
       "      <td>Sanford Canvas, Water Color</td>\n",
       "      <td>Art</td>\n",
       "      <td>Office Supplies</td>\n",
       "      <td>71.60</td>\n",
       "      <td>2</td>\n",
       "      <td>0.0</td>\n",
       "      <td>11.44</td>\n",
       "      <td>3.79</td>\n",
       "      <td>Medium</td>\n",
       "      <td>0</td>\n",
       "    </tr>\n",
       "    <tr>\n",
       "      <th>...</th>\n",
       "      <td>...</td>\n",
       "      <td>...</td>\n",
       "      <td>...</td>\n",
       "      <td>...</td>\n",
       "      <td>...</td>\n",
       "      <td>...</td>\n",
       "      <td>...</td>\n",
       "      <td>...</td>\n",
       "      <td>...</td>\n",
       "      <td>...</td>\n",
       "      <td>...</td>\n",
       "      <td>...</td>\n",
       "      <td>...</td>\n",
       "      <td>...</td>\n",
       "      <td>...</td>\n",
       "      <td>...</td>\n",
       "      <td>...</td>\n",
       "      <td>...</td>\n",
       "      <td>...</td>\n",
       "      <td>...</td>\n",
       "      <td>...</td>\n",
       "      <td>...</td>\n",
       "      <td>...</td>\n",
       "      <td>...</td>\n",
       "    </tr>\n",
       "    <tr>\n",
       "      <th>19222</th>\n",
       "      <td>51286</td>\n",
       "      <td>HU-2015-NF838557-42252</td>\n",
       "      <td>2015-09-05</td>\n",
       "      <td>2015-09-07</td>\n",
       "      <td>First Class</td>\n",
       "      <td>NF-838557</td>\n",
       "      <td>Natalie Fritzler</td>\n",
       "      <td>Consumer</td>\n",
       "      <td>Budapest</td>\n",
       "      <td>Budapest</td>\n",
       "      <td>Hungary</td>\n",
       "      <td>Eastern Europe</td>\n",
       "      <td>Europe</td>\n",
       "      <td>OFF-BI-3248</td>\n",
       "      <td>Avery Binder Covers, Economy</td>\n",
       "      <td>Binders</td>\n",
       "      <td>Office Supplies</td>\n",
       "      <td>11.07</td>\n",
       "      <td>1</td>\n",
       "      <td>0.0</td>\n",
       "      <td>3.42</td>\n",
       "      <td>1.98</td>\n",
       "      <td>High</td>\n",
       "      <td>0</td>\n",
       "    </tr>\n",
       "    <tr>\n",
       "      <th>19204</th>\n",
       "      <td>51287</td>\n",
       "      <td>HU-2015-NF838557-42252</td>\n",
       "      <td>2015-09-05</td>\n",
       "      <td>2015-09-07</td>\n",
       "      <td>First Class</td>\n",
       "      <td>NF-838557</td>\n",
       "      <td>Natalie Fritzler</td>\n",
       "      <td>Consumer</td>\n",
       "      <td>Budapest</td>\n",
       "      <td>Budapest</td>\n",
       "      <td>Hungary</td>\n",
       "      <td>Eastern Europe</td>\n",
       "      <td>Europe</td>\n",
       "      <td>TEC-AC-5102</td>\n",
       "      <td>Logitech Flash Drive, USB</td>\n",
       "      <td>Accessories</td>\n",
       "      <td>Technology</td>\n",
       "      <td>61.44</td>\n",
       "      <td>2</td>\n",
       "      <td>0.0</td>\n",
       "      <td>18.42</td>\n",
       "      <td>13.02</td>\n",
       "      <td>High</td>\n",
       "      <td>0</td>\n",
       "    </tr>\n",
       "    <tr>\n",
       "      <th>19207</th>\n",
       "      <td>51288</td>\n",
       "      <td>HU-2015-NF838557-42252</td>\n",
       "      <td>2015-09-05</td>\n",
       "      <td>2015-09-07</td>\n",
       "      <td>First Class</td>\n",
       "      <td>NF-838557</td>\n",
       "      <td>Natalie Fritzler</td>\n",
       "      <td>Consumer</td>\n",
       "      <td>Budapest</td>\n",
       "      <td>Budapest</td>\n",
       "      <td>Hungary</td>\n",
       "      <td>Eastern Europe</td>\n",
       "      <td>Europe</td>\n",
       "      <td>OFF-AR-3533</td>\n",
       "      <td>Boston Highlighters, Fluorescent</td>\n",
       "      <td>Art</td>\n",
       "      <td>Office Supplies</td>\n",
       "      <td>80.52</td>\n",
       "      <td>4</td>\n",
       "      <td>0.0</td>\n",
       "      <td>20.88</td>\n",
       "      <td>8.78</td>\n",
       "      <td>High</td>\n",
       "      <td>0</td>\n",
       "    </tr>\n",
       "    <tr>\n",
       "      <th>19196</th>\n",
       "      <td>51289</td>\n",
       "      <td>HU-2015-NF838557-42252</td>\n",
       "      <td>2015-09-05</td>\n",
       "      <td>2015-09-07</td>\n",
       "      <td>First Class</td>\n",
       "      <td>NF-838557</td>\n",
       "      <td>Natalie Fritzler</td>\n",
       "      <td>Consumer</td>\n",
       "      <td>Budapest</td>\n",
       "      <td>Budapest</td>\n",
       "      <td>Hungary</td>\n",
       "      <td>Eastern Europe</td>\n",
       "      <td>Europe</td>\n",
       "      <td>OFF-PA-4147</td>\n",
       "      <td>Enermax Computer Printout Paper, 8.5 x 11</td>\n",
       "      <td>Paper</td>\n",
       "      <td>Office Supplies</td>\n",
       "      <td>130.44</td>\n",
       "      <td>4</td>\n",
       "      <td>0.0</td>\n",
       "      <td>33.84</td>\n",
       "      <td>18.97</td>\n",
       "      <td>High</td>\n",
       "      <td>0</td>\n",
       "    </tr>\n",
       "    <tr>\n",
       "      <th>23089</th>\n",
       "      <td>51290</td>\n",
       "      <td>IZ-2014-SZ1003561-41875</td>\n",
       "      <td>2014-08-24</td>\n",
       "      <td>2014-08-28</td>\n",
       "      <td>Standard Class</td>\n",
       "      <td>SZ-1003561</td>\n",
       "      <td>Sam Zeldin</td>\n",
       "      <td>Home Office</td>\n",
       "      <td>Baghdad</td>\n",
       "      <td>Baghdad</td>\n",
       "      <td>Iraq</td>\n",
       "      <td>Western Asia</td>\n",
       "      <td>Asia Pacific</td>\n",
       "      <td>OFF-BI-2882</td>\n",
       "      <td>Acco 3-Hole Punch, Durable</td>\n",
       "      <td>Binders</td>\n",
       "      <td>Office Supplies</td>\n",
       "      <td>31.62</td>\n",
       "      <td>1</td>\n",
       "      <td>0.0</td>\n",
       "      <td>12.96</td>\n",
       "      <td>2.40</td>\n",
       "      <td>Medium</td>\n",
       "      <td>0</td>\n",
       "    </tr>\n",
       "  </tbody>\n",
       "</table>\n",
       "<p>51290 rows × 24 columns</p>\n",
       "</div>"
      ],
      "text/plain": [
       "       row_id                 order_id order_date  ship_date       ship_mode  \\\n",
       "26336       1  MX-2017-SC2057582-43010 2017-10-02 2017-10-06  Standard Class   \n",
       "9122        2  MX-2015-KW1657028-42292 2015-10-15 2015-10-20  Standard Class   \n",
       "9123        3  MX-2015-KW1657028-42292 2015-10-15 2015-10-20  Standard Class   \n",
       "9129        4  MX-2015-KW1657028-42292 2015-10-15 2015-10-20  Standard Class   \n",
       "9128        5  MX-2015-KW1657028-42292 2015-10-15 2015-10-20  Standard Class   \n",
       "...       ...                      ...        ...        ...             ...   \n",
       "19222   51286   HU-2015-NF838557-42252 2015-09-05 2015-09-07     First Class   \n",
       "19204   51287   HU-2015-NF838557-42252 2015-09-05 2015-09-07     First Class   \n",
       "19207   51288   HU-2015-NF838557-42252 2015-09-05 2015-09-07     First Class   \n",
       "19196   51289   HU-2015-NF838557-42252 2015-09-05 2015-09-07     First Class   \n",
       "23089   51290  IZ-2014-SZ1003561-41875 2014-08-24 2014-08-28  Standard Class   \n",
       "\n",
       "      customer_id     customer_name      segment           city  \\\n",
       "26336  SC-2057582      Sonia Cooley     Consumer    Mexico City   \n",
       "9122   KW-1657028    Kelly Williams     Consumer  Dos Quebradas   \n",
       "9123   KW-1657028    Kelly Williams     Consumer  Dos Quebradas   \n",
       "9129   KW-1657028    Kelly Williams     Consumer  Dos Quebradas   \n",
       "9128   KW-1657028    Kelly Williams     Consumer  Dos Quebradas   \n",
       "...           ...               ...          ...            ...   \n",
       "19222   NF-838557  Natalie Fritzler     Consumer       Budapest   \n",
       "19204   NF-838557  Natalie Fritzler     Consumer       Budapest   \n",
       "19207   NF-838557  Natalie Fritzler     Consumer       Budapest   \n",
       "19196   NF-838557  Natalie Fritzler     Consumer       Budapest   \n",
       "23089  SZ-1003561        Sam Zeldin  Home Office        Baghdad   \n",
       "\n",
       "                  state   country         region_x        market   product_id  \\\n",
       "26336  Distrito Federal    Mexico  Central America         LATAM  OFF-LA-4658   \n",
       "9122          Risaralda  Colombia    South America         LATAM  FUR-FU-6238   \n",
       "9123          Risaralda  Colombia    South America         LATAM  FUR-BO-4845   \n",
       "9129          Risaralda  Colombia    South America         LATAM  OFF-BI-3720   \n",
       "9128          Risaralda  Colombia    South America         LATAM  OFF-AR-5905   \n",
       "...                 ...       ...              ...           ...          ...   \n",
       "19222          Budapest   Hungary   Eastern Europe        Europe  OFF-BI-3248   \n",
       "19204          Budapest   Hungary   Eastern Europe        Europe  TEC-AC-5102   \n",
       "19207          Budapest   Hungary   Eastern Europe        Europe  OFF-AR-3533   \n",
       "19196          Budapest   Hungary   Eastern Europe        Europe  OFF-PA-4147   \n",
       "23089           Baghdad      Iraq     Western Asia  Asia Pacific  OFF-BI-2882   \n",
       "\n",
       "                                    product_name sub-category  \\\n",
       "26336         Hon File Folder Labels, Adjustable       Labels   \n",
       "9122                        Tenex Clock, Durable  Furnishings   \n",
       "9123                Ikea 3-Shelf Cabinet, Mobile    Bookcases   \n",
       "9129                      Cardinal Binder, Clear      Binders   \n",
       "9128                 Sanford Canvas, Water Color          Art   \n",
       "...                                          ...          ...   \n",
       "19222               Avery Binder Covers, Economy      Binders   \n",
       "19204                  Logitech Flash Drive, USB  Accessories   \n",
       "19207           Boston Highlighters, Fluorescent          Art   \n",
       "19196  Enermax Computer Printout Paper, 8.5 x 11        Paper   \n",
       "23089                 Acco 3-Hole Punch, Durable      Binders   \n",
       "\n",
       "              category   sales  quantity  discount  profit  shipping_cost  \\\n",
       "26336  Office Supplies   13.08         3       0.0    4.56           2.03   \n",
       "9122         Furniture  252.16         8       0.0   90.72          13.45   \n",
       "9123         Furniture  193.28         2       0.0   54.08           9.63   \n",
       "9129   Office Supplies   35.44         4       0.0    4.96           1.37   \n",
       "9128   Office Supplies   71.60         2       0.0   11.44           3.79   \n",
       "...                ...     ...       ...       ...     ...            ...   \n",
       "19222  Office Supplies   11.07         1       0.0    3.42           1.98   \n",
       "19204       Technology   61.44         2       0.0   18.42          13.02   \n",
       "19207  Office Supplies   80.52         4       0.0   20.88           8.78   \n",
       "19196  Office Supplies  130.44         4       0.0   33.84          18.97   \n",
       "23089  Office Supplies   31.62         1       0.0   12.96           2.40   \n",
       "\n",
       "      order_priority returned  \n",
       "26336         Medium        0  \n",
       "9122          Medium        0  \n",
       "9123          Medium        0  \n",
       "9129          Medium        0  \n",
       "9128          Medium        0  \n",
       "...              ...      ...  \n",
       "19222           High        0  \n",
       "19204           High        0  \n",
       "19207           High        0  \n",
       "19196           High        0  \n",
       "23089         Medium        0  \n",
       "\n",
       "[51290 rows x 24 columns]"
      ]
     },
     "execution_count": 12,
     "metadata": {},
     "output_type": "execute_result"
    }
   ],
   "source": [
    "df"
   ]
  },
  {
   "cell_type": "code",
   "execution_count": 13,
   "metadata": {
    "colab": {
     "base_uri": "https://localhost:8080/"
    },
    "id": "5Kr7PpWElxTk",
    "outputId": "8288df5e-eb9d-4e8f-a7d1-5ea0f6056154"
   },
   "outputs": [
    {
     "data": {
      "text/plain": [
       "(51290, 24)"
      ]
     },
     "execution_count": 13,
     "metadata": {},
     "output_type": "execute_result"
    }
   ],
   "source": [
    "df.shape"
   ]
  },
  {
   "cell_type": "code",
   "execution_count": null,
   "metadata": {
    "id": "RsXYjfR7ClV7"
   },
   "outputs": [],
   "source": []
  }
 ],
 "metadata": {
  "colab": {
   "authorship_tag": "ABX9TyOHAWC3K7MK1v1l+X9+EklS",
   "include_colab_link": true,
   "provenance": [],
   "toc_visible": true
  },
  "kernelspec": {
   "display_name": "Python 3 (ipykernel)",
   "language": "python",
   "name": "python3"
  },
  "language_info": {
   "codemirror_mode": {
    "name": "ipython",
    "version": 3
   },
   "file_extension": ".py",
   "mimetype": "text/x-python",
   "name": "python",
   "nbconvert_exporter": "python",
   "pygments_lexer": "ipython3",
   "version": "3.11.4"
  }
 },
 "nbformat": 4,
 "nbformat_minor": 1
}
